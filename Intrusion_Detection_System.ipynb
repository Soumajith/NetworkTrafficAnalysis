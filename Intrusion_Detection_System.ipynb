{
  "metadata": {
    "kernelspec": {
      "language": "python",
      "display_name": "Python 3",
      "name": "python3"
    },
    "language_info": {
      "name": "python",
      "version": "3.7.6",
      "mimetype": "text/x-python",
      "codemirror_mode": {
        "name": "ipython",
        "version": 3
      },
      "pygments_lexer": "ipython3",
      "nbconvert_exporter": "python",
      "file_extension": ".py"
    },
    "kaggle": {
      "accelerator": "gpu",
      "dataSources": [
        {
          "sourceId": 208170,
          "sourceType": "datasetVersion",
          "datasetId": 90131
        }
      ],
      "dockerImageVersionId": 29963,
      "isInternetEnabled": true,
      "language": "python",
      "sourceType": "notebook",
      "isGpuEnabled": true
    },
    "colab": {
      "name": "Intrusion Detection System",
      "provenance": [],
      "include_colab_link": true
    }
  },
  "nbformat_minor": 0,
  "nbformat": 4,
  "cells": [
    {
      "cell_type": "markdown",
      "metadata": {
        "id": "view-in-github",
        "colab_type": "text"
      },
      "source": [
        "<a href=\"https://colab.research.google.com/github/Soumajith/NetworkTrafficAnalysis/blob/main/Intrusion_Detection_System.ipynb\" target=\"_parent\"><img src=\"https://colab.research.google.com/assets/colab-badge.svg\" alt=\"Open In Colab\"/></a>"
      ]
    },
    {
      "source": [
        "\n",
        "# IMPORTANT: RUN THIS CELL IN ORDER TO IMPORT YOUR KAGGLE DATA SOURCES\n",
        "# TO THE CORRECT LOCATION (/kaggle/input) IN YOUR NOTEBOOK,\n",
        "# THEN FEEL FREE TO DELETE THIS CELL.\n",
        "# NOTE: THIS NOTEBOOK ENVIRONMENT DIFFERS FROM KAGGLE'S PYTHON\n",
        "# ENVIRONMENT SO THERE MAY BE MISSING LIBRARIES USED BY YOUR\n",
        "# NOTEBOOK.\n",
        "\n",
        "import os\n",
        "import sys\n",
        "from tempfile import NamedTemporaryFile\n",
        "from urllib.request import urlopen\n",
        "from urllib.parse import unquote, urlparse\n",
        "from urllib.error import HTTPError\n",
        "from zipfile import ZipFile\n",
        "import tarfile\n",
        "import shutil\n",
        "\n",
        "CHUNK_SIZE = 40960\n",
        "DATA_SOURCE_MAPPING = 'kdd-cup-1999-data:https%3A%2F%2Fstorage.googleapis.com%2Fkaggle-data-sets%2F90131%2F208170%2Fbundle%2Farchive.zip%3FX-Goog-Algorithm%3DGOOG4-RSA-SHA256%26X-Goog-Credential%3Dgcp-kaggle-com%2540kaggle-161607.iam.gserviceaccount.com%252F20240804%252Fauto%252Fstorage%252Fgoog4_request%26X-Goog-Date%3D20240804T154410Z%26X-Goog-Expires%3D259200%26X-Goog-SignedHeaders%3Dhost%26X-Goog-Signature%3D0aabbb8d90d96359465dc6bd630b884183b1868f774c1c39feb87bb6004d81c8f74325b2d5b12850102e388973e9a0cdadd5f2264335c01e6265c736fac744fe90c2f92bb91927653d20819c6463964acb954bf41058d0118733e824cc2045ccd67f3006a69ba7217e6485d4d48778e7502a17b01f34b4997d65c37a21655ec7e558e85bb8c2308722bfb70438a33c8fd76b54de4faa252f1d4935e9960cd8fa90d97e10732f7f90b73cd14567b5d443f0f3916b0f0f36afc3f7503527dd2306550912ae3cc768f81c03a5f9708405fbe1356a3314d74820da1651117e6e548d2d0667ec42d1a7ac2459bbbd039431c4b25ba74039e933c868043476d078bb1b'\n",
        "\n",
        "KAGGLE_INPUT_PATH='/kaggle/input'\n",
        "KAGGLE_WORKING_PATH='/kaggle/working'\n",
        "KAGGLE_SYMLINK='kaggle'\n",
        "\n",
        "!umount /kaggle/input/ 2> /dev/null\n",
        "shutil.rmtree('/kaggle/input', ignore_errors=True)\n",
        "os.makedirs(KAGGLE_INPUT_PATH, 0o777, exist_ok=True)\n",
        "os.makedirs(KAGGLE_WORKING_PATH, 0o777, exist_ok=True)\n",
        "\n",
        "try:\n",
        "  os.symlink(KAGGLE_INPUT_PATH, os.path.join(\"..\", 'input'), target_is_directory=True)\n",
        "except FileExistsError:\n",
        "  pass\n",
        "try:\n",
        "  os.symlink(KAGGLE_WORKING_PATH, os.path.join(\"..\", 'working'), target_is_directory=True)\n",
        "except FileExistsError:\n",
        "  pass\n",
        "\n",
        "for data_source_mapping in DATA_SOURCE_MAPPING.split(','):\n",
        "    directory, download_url_encoded = data_source_mapping.split(':')\n",
        "    download_url = unquote(download_url_encoded)\n",
        "    filename = urlparse(download_url).path\n",
        "    destination_path = os.path.join(KAGGLE_INPUT_PATH, directory)\n",
        "    try:\n",
        "        with urlopen(download_url) as fileres, NamedTemporaryFile() as tfile:\n",
        "            total_length = fileres.headers['content-length']\n",
        "            print(f'Downloading {directory}, {total_length} bytes compressed')\n",
        "            dl = 0\n",
        "            data = fileres.read(CHUNK_SIZE)\n",
        "            while len(data) > 0:\n",
        "                dl += len(data)\n",
        "                tfile.write(data)\n",
        "                done = int(50 * dl / int(total_length))\n",
        "                sys.stdout.write(f\"\\r[{'=' * done}{' ' * (50-done)}] {dl} bytes downloaded\")\n",
        "                sys.stdout.flush()\n",
        "                data = fileres.read(CHUNK_SIZE)\n",
        "            if filename.endswith('.zip'):\n",
        "              with ZipFile(tfile) as zfile:\n",
        "                zfile.extractall(destination_path)\n",
        "            else:\n",
        "              with tarfile.open(tfile.name) as tarfile:\n",
        "                tarfile.extractall(destination_path)\n",
        "            print(f'\\nDownloaded and uncompressed: {directory}')\n",
        "    except HTTPError as e:\n",
        "        print(f'Failed to load (likely expired) {download_url} to path {destination_path}')\n",
        "        continue\n",
        "    except OSError as e:\n",
        "        print(f'Failed to load {download_url} to path {destination_path}')\n",
        "        continue\n",
        "\n",
        "print('Data source import complete.')\n"
      ],
      "metadata": {
        "id": "iibehviNECEA"
      },
      "cell_type": "code",
      "outputs": [],
      "execution_count": null
    },
    {
      "cell_type": "markdown",
      "source": [
        "This is the first version of my public kernel(Intrusion Detection System)."
      ],
      "metadata": {
        "id": "RiU_QpOkECEG"
      }
    },
    {
      "cell_type": "code",
      "source": [
        "import os\n",
        "import pandas as pd\n",
        "import numpy as np\n",
        "import matplotlib.pyplot as plt\n",
        "import seaborn as sns\n",
        "import time"
      ],
      "metadata": {
        "scrolled": true,
        "execution": {
          "iopub.status.busy": "2024-07-27T18:08:33.345788Z",
          "iopub.execute_input": "2024-07-27T18:08:33.346136Z",
          "iopub.status.idle": "2024-07-27T18:08:34.027311Z",
          "shell.execute_reply.started": "2024-07-27T18:08:33.346106Z",
          "shell.execute_reply": "2024-07-27T18:08:34.026574Z"
        },
        "trusted": true,
        "id": "3EKhjztGECEH"
      },
      "execution_count": null,
      "outputs": []
    },
    {
      "cell_type": "code",
      "source": [
        "print(os.listdir('../input/kdd-cup-1999-data'))"
      ],
      "metadata": {
        "scrolled": true,
        "execution": {
          "iopub.status.busy": "2024-07-27T18:08:34.029555Z",
          "iopub.execute_input": "2024-07-27T18:08:34.029941Z",
          "iopub.status.idle": "2024-07-27T18:08:34.046148Z",
          "shell.execute_reply.started": "2024-07-27T18:08:34.029907Z",
          "shell.execute_reply": "2024-07-27T18:08:34.045178Z"
        },
        "trusted": true,
        "id": "71LuNnKJECEI"
      },
      "execution_count": null,
      "outputs": []
    },
    {
      "cell_type": "code",
      "source": [
        "with open(\"../input/kdd-cup-1999-data/kddcup.names\",'r') as f:\n",
        "    print(f.read())"
      ],
      "metadata": {
        "execution": {
          "iopub.status.busy": "2024-07-27T18:08:34.047751Z",
          "iopub.execute_input": "2024-07-27T18:08:34.048089Z",
          "iopub.status.idle": "2024-07-27T18:08:34.057652Z",
          "shell.execute_reply.started": "2024-07-27T18:08:34.048057Z",
          "shell.execute_reply": "2024-07-27T18:08:34.056915Z"
        },
        "trusted": true,
        "id": "BzeD-30vECEI"
      },
      "execution_count": null,
      "outputs": []
    },
    {
      "cell_type": "code",
      "source": [
        "cols=\"\"\"duration,\n",
        "protocol_type,\n",
        "service,\n",
        "flag,\n",
        "src_bytes,\n",
        "dst_bytes,\n",
        "land,\n",
        "wrong_fragment,\n",
        "urgent,\n",
        "hot,\n",
        "num_failed_logins,\n",
        "logged_in,\n",
        "num_compromised,\n",
        "root_shell,\n",
        "su_attempted,\n",
        "num_root,\n",
        "num_file_creations,\n",
        "num_shells,\n",
        "num_access_files,\n",
        "num_outbound_cmds,\n",
        "is_host_login,\n",
        "is_guest_login,\n",
        "count,\n",
        "srv_count,\n",
        "serror_rate,\n",
        "srv_serror_rate,\n",
        "rerror_rate,\n",
        "srv_rerror_rate,\n",
        "same_srv_rate,\n",
        "diff_srv_rate,\n",
        "srv_diff_host_rate,\n",
        "dst_host_count,\n",
        "dst_host_srv_count,\n",
        "dst_host_same_srv_rate,\n",
        "dst_host_diff_srv_rate,\n",
        "dst_host_same_src_port_rate,\n",
        "dst_host_srv_diff_host_rate,\n",
        "dst_host_serror_rate,\n",
        "dst_host_srv_serror_rate,\n",
        "dst_host_rerror_rate,\n",
        "dst_host_srv_rerror_rate\"\"\"\n",
        "\n",
        "columns=[]\n",
        "for c in cols.split(','):\n",
        "    if(c.strip()):\n",
        "       columns.append(c.strip())\n",
        "\n",
        "columns.append('target')\n",
        "#print(columns)\n",
        "print(len(columns))"
      ],
      "metadata": {
        "execution": {
          "iopub.status.busy": "2024-07-27T18:08:34.059034Z",
          "iopub.execute_input": "2024-07-27T18:08:34.059373Z",
          "iopub.status.idle": "2024-07-27T18:08:34.066791Z",
          "shell.execute_reply.started": "2024-07-27T18:08:34.05934Z",
          "shell.execute_reply": "2024-07-27T18:08:34.065905Z"
        },
        "trusted": true,
        "id": "uxcDIBg5ECEI"
      },
      "execution_count": null,
      "outputs": []
    },
    {
      "cell_type": "code",
      "source": [
        "with open(\"../input/kdd-cup-1999-data/training_attack_types\",'r') as f:\n",
        "    print(f.read())"
      ],
      "metadata": {
        "execution": {
          "iopub.status.busy": "2024-07-27T18:08:34.070814Z",
          "iopub.execute_input": "2024-07-27T18:08:34.071114Z",
          "iopub.status.idle": "2024-07-27T18:08:34.084631Z",
          "shell.execute_reply.started": "2024-07-27T18:08:34.071084Z",
          "shell.execute_reply": "2024-07-27T18:08:34.083917Z"
        },
        "trusted": true,
        "id": "hLFHJRDVECEJ"
      },
      "execution_count": null,
      "outputs": []
    },
    {
      "cell_type": "code",
      "source": [
        "attacks_types = {\n",
        "    'normal': 'normal',\n",
        "'back': 'dos',\n",
        "'buffer_overflow': 'u2r',\n",
        "'ftp_write': 'r2l',\n",
        "'guess_passwd': 'r2l',\n",
        "'imap': 'r2l',\n",
        "'ipsweep': 'probe',\n",
        "'land': 'dos',\n",
        "'loadmodule': 'u2r',\n",
        "'multihop': 'r2l',\n",
        "'neptune': 'dos',\n",
        "'nmap': 'probe',\n",
        "'perl': 'u2r',\n",
        "'phf': 'r2l',\n",
        "'pod': 'dos',\n",
        "'portsweep': 'probe',\n",
        "'rootkit': 'u2r',\n",
        "'satan': 'probe',\n",
        "'smurf': 'dos',\n",
        "'spy': 'r2l',\n",
        "'teardrop': 'dos',\n",
        "'warezclient': 'r2l',\n",
        "'warezmaster': 'r2l',\n",
        "}\n"
      ],
      "metadata": {
        "execution": {
          "iopub.status.busy": "2024-07-27T18:08:34.087726Z",
          "iopub.execute_input": "2024-07-27T18:08:34.088026Z",
          "iopub.status.idle": "2024-07-27T18:08:34.095642Z",
          "shell.execute_reply.started": "2024-07-27T18:08:34.087999Z",
          "shell.execute_reply": "2024-07-27T18:08:34.094621Z"
        },
        "trusted": true,
        "id": "9CtPbLVfECEJ"
      },
      "execution_count": null,
      "outputs": []
    },
    {
      "cell_type": "markdown",
      "source": [
        "READING DATASET"
      ],
      "metadata": {
        "id": "mYoN9sB9ECEK"
      }
    },
    {
      "cell_type": "code",
      "source": [
        "path = \"../input/kdd-cup-1999-data/kddcup.data_10_percent.gz\"\n",
        "df = pd.read_csv(path,names=columns)\n",
        "\n",
        "#Adding Attack Type column\n",
        "df['Attack Type'] = df.target.apply(lambda r:attacks_types[r[:-1]])\n",
        "\n",
        "df.head()"
      ],
      "metadata": {
        "execution": {
          "iopub.status.busy": "2024-07-27T18:08:34.097117Z",
          "iopub.execute_input": "2024-07-27T18:08:34.097543Z",
          "iopub.status.idle": "2024-07-27T18:08:36.459732Z",
          "shell.execute_reply.started": "2024-07-27T18:08:34.097505Z",
          "shell.execute_reply": "2024-07-27T18:08:36.458866Z"
        },
        "trusted": true,
        "id": "lB7dsegQECEK"
      },
      "execution_count": null,
      "outputs": []
    },
    {
      "cell_type": "code",
      "source": [
        "df.shape"
      ],
      "metadata": {
        "execution": {
          "iopub.status.busy": "2024-07-27T18:08:36.460893Z",
          "iopub.execute_input": "2024-07-27T18:08:36.461204Z",
          "iopub.status.idle": "2024-07-27T18:08:36.466803Z",
          "shell.execute_reply.started": "2024-07-27T18:08:36.461174Z",
          "shell.execute_reply": "2024-07-27T18:08:36.465999Z"
        },
        "trusted": true,
        "id": "bEHiSFJOECEK"
      },
      "execution_count": null,
      "outputs": []
    },
    {
      "cell_type": "code",
      "source": [
        "df['target'].value_counts()"
      ],
      "metadata": {
        "execution": {
          "iopub.status.busy": "2024-07-27T18:08:36.468042Z",
          "iopub.execute_input": "2024-07-27T18:08:36.468348Z",
          "iopub.status.idle": "2024-07-27T18:08:36.605618Z",
          "shell.execute_reply.started": "2024-07-27T18:08:36.468304Z",
          "shell.execute_reply": "2024-07-27T18:08:36.604736Z"
        },
        "trusted": true,
        "id": "9mJWoL_-ECEL"
      },
      "execution_count": null,
      "outputs": []
    },
    {
      "cell_type": "code",
      "source": [
        "df['Attack Type'].value_counts()"
      ],
      "metadata": {
        "execution": {
          "iopub.status.busy": "2024-07-27T18:08:36.606986Z",
          "iopub.execute_input": "2024-07-27T18:08:36.607285Z",
          "iopub.status.idle": "2024-07-27T18:08:36.726601Z",
          "shell.execute_reply.started": "2024-07-27T18:08:36.607256Z",
          "shell.execute_reply": "2024-07-27T18:08:36.725273Z"
        },
        "trusted": true,
        "id": "wa1cM9v_ECEL"
      },
      "execution_count": null,
      "outputs": []
    },
    {
      "cell_type": "code",
      "source": [
        "df.dtypes"
      ],
      "metadata": {
        "execution": {
          "iopub.status.busy": "2024-07-27T18:08:36.728272Z",
          "iopub.execute_input": "2024-07-27T18:08:36.728623Z",
          "iopub.status.idle": "2024-07-27T18:08:36.741309Z",
          "shell.execute_reply.started": "2024-07-27T18:08:36.728575Z",
          "shell.execute_reply": "2024-07-27T18:08:36.740458Z"
        },
        "trusted": true,
        "id": "7NcWxKqnECEL"
      },
      "execution_count": null,
      "outputs": []
    },
    {
      "cell_type": "markdown",
      "source": [
        "DATA PREPROCESSING"
      ],
      "metadata": {
        "id": "0O0F_m0IECEL"
      }
    },
    {
      "cell_type": "code",
      "source": [
        "df.isnull().sum()"
      ],
      "metadata": {
        "execution": {
          "iopub.status.busy": "2024-07-27T18:08:36.742356Z",
          "iopub.execute_input": "2024-07-27T18:08:36.74265Z",
          "iopub.status.idle": "2024-07-27T18:08:37.063184Z",
          "shell.execute_reply.started": "2024-07-27T18:08:36.74262Z",
          "shell.execute_reply": "2024-07-27T18:08:37.062262Z"
        },
        "trusted": true,
        "id": "mllx6n6hECEM"
      },
      "execution_count": null,
      "outputs": []
    },
    {
      "cell_type": "code",
      "source": [
        "#Finding categorical features\n",
        "num_cols = df._get_numeric_data().columns\n",
        "\n",
        "cate_cols = list(set(df.columns)-set(num_cols))\n",
        "cate_cols.remove('target')\n",
        "cate_cols.remove('Attack Type')\n",
        "\n",
        "cate_cols"
      ],
      "metadata": {
        "execution": {
          "iopub.status.busy": "2024-07-27T18:08:37.064234Z",
          "iopub.execute_input": "2024-07-27T18:08:37.064522Z",
          "iopub.status.idle": "2024-07-27T18:08:37.073464Z",
          "shell.execute_reply.started": "2024-07-27T18:08:37.064476Z",
          "shell.execute_reply": "2024-07-27T18:08:37.072655Z"
        },
        "trusted": true,
        "id": "FOU2MdXrECEM"
      },
      "execution_count": null,
      "outputs": []
    },
    {
      "cell_type": "markdown",
      "source": [
        "CATEGORICAL FEATURES DISTRIBUTION"
      ],
      "metadata": {
        "id": "2ODmQaFcECEM"
      }
    },
    {
      "cell_type": "code",
      "source": [
        "#Visualization\n",
        "def bar_graph(feature):\n",
        "    df[feature].value_counts().plot(kind=\"bar\")"
      ],
      "metadata": {
        "execution": {
          "iopub.status.busy": "2024-07-27T18:08:37.075442Z",
          "iopub.execute_input": "2024-07-27T18:08:37.075784Z",
          "iopub.status.idle": "2024-07-27T18:08:37.086493Z",
          "shell.execute_reply.started": "2024-07-27T18:08:37.075754Z",
          "shell.execute_reply": "2024-07-27T18:08:37.085737Z"
        },
        "trusted": true,
        "id": "rTPP-X2cECEM"
      },
      "execution_count": null,
      "outputs": []
    },
    {
      "cell_type": "code",
      "source": [
        "bar_graph('protocol_type')"
      ],
      "metadata": {
        "execution": {
          "iopub.status.busy": "2024-07-27T18:08:37.087905Z",
          "iopub.execute_input": "2024-07-27T18:08:37.088309Z",
          "iopub.status.idle": "2024-07-27T18:08:37.393934Z",
          "shell.execute_reply.started": "2024-07-27T18:08:37.088265Z",
          "shell.execute_reply": "2024-07-27T18:08:37.393036Z"
        },
        "trusted": true,
        "id": "TwEaPSnnECEN"
      },
      "execution_count": null,
      "outputs": []
    },
    {
      "cell_type": "markdown",
      "source": [
        "Protocol type: We notice that ICMP is the most present in the used data, then TCP and almost 20000 packets of UDP type"
      ],
      "metadata": {
        "id": "DR49zu6bECEN"
      }
    },
    {
      "cell_type": "code",
      "source": [
        "plt.figure(figsize=(15,3))\n",
        "bar_graph('service')"
      ],
      "metadata": {
        "execution": {
          "iopub.status.busy": "2024-07-27T18:08:37.395608Z",
          "iopub.execute_input": "2024-07-27T18:08:37.395984Z",
          "iopub.status.idle": "2024-07-27T18:08:38.345863Z",
          "shell.execute_reply.started": "2024-07-27T18:08:37.395951Z",
          "shell.execute_reply": "2024-07-27T18:08:38.344936Z"
        },
        "trusted": true,
        "id": "Ubw0cwloECEN"
      },
      "execution_count": null,
      "outputs": []
    },
    {
      "cell_type": "code",
      "source": [
        "bar_graph('flag')"
      ],
      "metadata": {
        "execution": {
          "iopub.status.busy": "2024-07-27T18:08:38.34728Z",
          "iopub.execute_input": "2024-07-27T18:08:38.347717Z",
          "iopub.status.idle": "2024-07-27T18:08:38.657463Z",
          "shell.execute_reply.started": "2024-07-27T18:08:38.347654Z",
          "shell.execute_reply": "2024-07-27T18:08:38.656553Z"
        },
        "trusted": true,
        "id": "A88oQR0_ECEN"
      },
      "execution_count": null,
      "outputs": []
    },
    {
      "cell_type": "code",
      "source": [
        "bar_graph('logged_in')"
      ],
      "metadata": {
        "execution": {
          "iopub.status.busy": "2024-07-27T18:08:38.658553Z",
          "iopub.execute_input": "2024-07-27T18:08:38.658903Z",
          "iopub.status.idle": "2024-07-27T18:08:38.797412Z",
          "shell.execute_reply.started": "2024-07-27T18:08:38.65887Z",
          "shell.execute_reply": "2024-07-27T18:08:38.796459Z"
        },
        "trusted": true,
        "id": "JafJLEu4ECEN"
      },
      "execution_count": null,
      "outputs": []
    },
    {
      "cell_type": "markdown",
      "source": [
        "logged_in (1 if successfully logged in; 0 otherwise): We notice that just 70000 packets are successfully logged in."
      ],
      "metadata": {
        "id": "A6pduU_RECEO"
      }
    },
    {
      "cell_type": "markdown",
      "source": [
        "TARGET FEATURE DISTRIBUTION"
      ],
      "metadata": {
        "id": "Ck8APXG1ECEO"
      }
    },
    {
      "cell_type": "code",
      "source": [
        "bar_graph('target')"
      ],
      "metadata": {
        "execution": {
          "iopub.status.busy": "2024-07-27T18:08:38.798614Z",
          "iopub.execute_input": "2024-07-27T18:08:38.798947Z",
          "iopub.status.idle": "2024-07-27T18:08:39.182695Z",
          "shell.execute_reply.started": "2024-07-27T18:08:38.798915Z",
          "shell.execute_reply": "2024-07-27T18:08:39.181609Z"
        },
        "trusted": true,
        "id": "DWslJoZfECEO"
      },
      "execution_count": null,
      "outputs": []
    },
    {
      "cell_type": "markdown",
      "source": [
        "Attack Type(The attack types grouped by attack, it's what we will predict)"
      ],
      "metadata": {
        "id": "nQUIrVXPECEO"
      }
    },
    {
      "cell_type": "code",
      "source": [
        "bar_graph('Attack Type')"
      ],
      "metadata": {
        "execution": {
          "iopub.status.busy": "2024-07-27T18:08:39.183875Z",
          "iopub.execute_input": "2024-07-27T18:08:39.184169Z",
          "iopub.status.idle": "2024-07-27T18:08:39.438814Z",
          "shell.execute_reply.started": "2024-07-27T18:08:39.18413Z",
          "shell.execute_reply": "2024-07-27T18:08:39.437892Z"
        },
        "trusted": true,
        "id": "BgwEU8B0ECEO"
      },
      "execution_count": null,
      "outputs": []
    },
    {
      "cell_type": "code",
      "source": [
        "df.columns"
      ],
      "metadata": {
        "execution": {
          "iopub.status.busy": "2024-07-27T18:08:39.440462Z",
          "iopub.execute_input": "2024-07-27T18:08:39.440931Z",
          "iopub.status.idle": "2024-07-27T18:08:39.448018Z",
          "shell.execute_reply.started": "2024-07-27T18:08:39.440884Z",
          "shell.execute_reply": "2024-07-27T18:08:39.447096Z"
        },
        "trusted": true,
        "id": "Volml2JMECEP"
      },
      "execution_count": null,
      "outputs": []
    },
    {
      "cell_type": "markdown",
      "source": [
        "DATA CORRELATION"
      ],
      "metadata": {
        "id": "zCnR59z1ECEP"
      }
    },
    {
      "cell_type": "code",
      "source": [
        "df = df.dropna('columns')# drop columns with NaN\n",
        "\n",
        "df = df[[col for col in df if df[col].nunique() > 1]]# keep columns where there are more than 1 unique values\n",
        "\n",
        "corr = df.corr()\n",
        "\n",
        "plt.figure(figsize=(15,12))\n",
        "\n",
        "sns.heatmap(corr)\n",
        "\n",
        "plt.show()"
      ],
      "metadata": {
        "execution": {
          "iopub.status.busy": "2024-07-27T18:08:39.449357Z",
          "iopub.execute_input": "2024-07-27T18:08:39.449691Z",
          "iopub.status.idle": "2024-07-27T18:08:42.322406Z",
          "shell.execute_reply.started": "2024-07-27T18:08:39.449635Z",
          "shell.execute_reply": "2024-07-27T18:08:42.321521Z"
        },
        "trusted": true,
        "id": "tl5baURRECEP"
      },
      "execution_count": null,
      "outputs": []
    },
    {
      "cell_type": "code",
      "source": [
        "df['num_root'].corr(df['num_compromised'])"
      ],
      "metadata": {
        "execution": {
          "iopub.status.busy": "2024-07-27T18:08:42.323609Z",
          "iopub.execute_input": "2024-07-27T18:08:42.323923Z",
          "iopub.status.idle": "2024-07-27T18:08:42.343565Z",
          "shell.execute_reply.started": "2024-07-27T18:08:42.323893Z",
          "shell.execute_reply": "2024-07-27T18:08:42.342738Z"
        },
        "trusted": true,
        "id": "oQktiAZrECEP"
      },
      "execution_count": null,
      "outputs": []
    },
    {
      "cell_type": "code",
      "source": [
        "df['srv_serror_rate'].corr(df['serror_rate'])"
      ],
      "metadata": {
        "execution": {
          "iopub.status.busy": "2024-07-27T18:08:42.346755Z",
          "iopub.execute_input": "2024-07-27T18:08:42.347103Z",
          "iopub.status.idle": "2024-07-27T18:08:42.359858Z",
          "shell.execute_reply.started": "2024-07-27T18:08:42.347063Z",
          "shell.execute_reply": "2024-07-27T18:08:42.358734Z"
        },
        "trusted": true,
        "id": "iHfq7eBXECEQ"
      },
      "execution_count": null,
      "outputs": []
    },
    {
      "cell_type": "code",
      "source": [
        "df['srv_count'].corr(df['count'])"
      ],
      "metadata": {
        "execution": {
          "iopub.status.busy": "2024-07-27T18:08:42.361722Z",
          "iopub.execute_input": "2024-07-27T18:08:42.362057Z",
          "iopub.status.idle": "2024-07-27T18:08:42.37685Z",
          "shell.execute_reply.started": "2024-07-27T18:08:42.362023Z",
          "shell.execute_reply": "2024-07-27T18:08:42.37579Z"
        },
        "trusted": true,
        "id": "Y8XZLvWtECEQ"
      },
      "execution_count": null,
      "outputs": []
    },
    {
      "cell_type": "code",
      "source": [
        "df['srv_rerror_rate'].corr(df['rerror_rate'])"
      ],
      "metadata": {
        "execution": {
          "iopub.status.busy": "2024-07-27T18:08:42.378217Z",
          "iopub.execute_input": "2024-07-27T18:08:42.37855Z",
          "iopub.status.idle": "2024-07-27T18:08:42.392186Z",
          "shell.execute_reply.started": "2024-07-27T18:08:42.378518Z",
          "shell.execute_reply": "2024-07-27T18:08:42.39106Z"
        },
        "trusted": true,
        "id": "LbRKPsjLECEQ"
      },
      "execution_count": null,
      "outputs": []
    },
    {
      "cell_type": "code",
      "source": [
        "df['dst_host_same_srv_rate'].corr(df['dst_host_srv_count'])"
      ],
      "metadata": {
        "execution": {
          "iopub.status.busy": "2024-07-27T18:08:42.393589Z",
          "iopub.execute_input": "2024-07-27T18:08:42.39398Z",
          "iopub.status.idle": "2024-07-27T18:08:42.406925Z",
          "shell.execute_reply.started": "2024-07-27T18:08:42.39395Z",
          "shell.execute_reply": "2024-07-27T18:08:42.405876Z"
        },
        "trusted": true,
        "id": "mQjTrhKLECER"
      },
      "execution_count": null,
      "outputs": []
    },
    {
      "cell_type": "code",
      "source": [
        "df['dst_host_srv_serror_rate'].corr(df['dst_host_serror_rate'])"
      ],
      "metadata": {
        "execution": {
          "iopub.status.busy": "2024-07-27T18:08:42.408469Z",
          "iopub.execute_input": "2024-07-27T18:08:42.408948Z",
          "iopub.status.idle": "2024-07-27T18:08:42.423715Z",
          "shell.execute_reply.started": "2024-07-27T18:08:42.408901Z",
          "shell.execute_reply": "2024-07-27T18:08:42.422718Z"
        },
        "trusted": true,
        "id": "PpHB2S8PECER"
      },
      "execution_count": null,
      "outputs": []
    },
    {
      "cell_type": "code",
      "source": [
        "df['dst_host_srv_rerror_rate'].corr(df['dst_host_rerror_rate'])"
      ],
      "metadata": {
        "execution": {
          "iopub.status.busy": "2024-07-27T18:08:42.424998Z",
          "iopub.execute_input": "2024-07-27T18:08:42.425297Z",
          "iopub.status.idle": "2024-07-27T18:08:42.437856Z",
          "shell.execute_reply.started": "2024-07-27T18:08:42.425267Z",
          "shell.execute_reply": "2024-07-27T18:08:42.437006Z"
        },
        "trusted": true,
        "id": "weecdNIUECER"
      },
      "execution_count": null,
      "outputs": []
    },
    {
      "cell_type": "code",
      "source": [
        "df['dst_host_same_srv_rate'].corr(df['same_srv_rate'])"
      ],
      "metadata": {
        "execution": {
          "iopub.status.busy": "2024-07-27T18:08:42.439426Z",
          "iopub.execute_input": "2024-07-27T18:08:42.439812Z",
          "iopub.status.idle": "2024-07-27T18:08:42.452771Z",
          "shell.execute_reply.started": "2024-07-27T18:08:42.439776Z",
          "shell.execute_reply": "2024-07-27T18:08:42.451511Z"
        },
        "trusted": true,
        "id": "kFn9gxdxECES"
      },
      "execution_count": null,
      "outputs": []
    },
    {
      "cell_type": "code",
      "source": [
        "df['dst_host_srv_count'].corr(df['same_srv_rate'])"
      ],
      "metadata": {
        "execution": {
          "iopub.status.busy": "2024-07-27T18:08:42.454345Z",
          "iopub.execute_input": "2024-07-27T18:08:42.454686Z",
          "iopub.status.idle": "2024-07-27T18:08:42.46678Z",
          "shell.execute_reply.started": "2024-07-27T18:08:42.454632Z",
          "shell.execute_reply": "2024-07-27T18:08:42.465878Z"
        },
        "trusted": true,
        "id": "vS7xolETECES"
      },
      "execution_count": null,
      "outputs": []
    },
    {
      "cell_type": "code",
      "source": [
        "df['dst_host_same_src_port_rate'].corr(df['srv_count'])"
      ],
      "metadata": {
        "execution": {
          "iopub.status.busy": "2024-07-27T18:08:42.479119Z",
          "iopub.execute_input": "2024-07-27T18:08:42.479483Z",
          "iopub.status.idle": "2024-07-27T18:08:42.492703Z",
          "shell.execute_reply.started": "2024-07-27T18:08:42.479447Z",
          "shell.execute_reply": "2024-07-27T18:08:42.491775Z"
        },
        "trusted": true,
        "id": "egrQ5F-0ECET"
      },
      "execution_count": null,
      "outputs": []
    },
    {
      "cell_type": "code",
      "source": [
        "df['dst_host_serror_rate'].corr(df['serror_rate'])"
      ],
      "metadata": {
        "execution": {
          "iopub.status.busy": "2024-07-27T18:08:42.494737Z",
          "iopub.execute_input": "2024-07-27T18:08:42.495033Z",
          "iopub.status.idle": "2024-07-27T18:08:42.507161Z",
          "shell.execute_reply.started": "2024-07-27T18:08:42.495003Z",
          "shell.execute_reply": "2024-07-27T18:08:42.506034Z"
        },
        "trusted": true,
        "id": "A12p6c5ZECET"
      },
      "execution_count": null,
      "outputs": []
    },
    {
      "cell_type": "code",
      "source": [
        "df['dst_host_serror_rate'].corr(df['srv_serror_rate'])"
      ],
      "metadata": {
        "execution": {
          "iopub.status.busy": "2024-07-27T18:08:42.508648Z",
          "iopub.execute_input": "2024-07-27T18:08:42.509064Z",
          "iopub.status.idle": "2024-07-27T18:08:42.523237Z",
          "shell.execute_reply.started": "2024-07-27T18:08:42.509029Z",
          "shell.execute_reply": "2024-07-27T18:08:42.522454Z"
        },
        "trusted": true,
        "id": "EEAsn9LHECEU"
      },
      "execution_count": null,
      "outputs": []
    },
    {
      "cell_type": "code",
      "source": [
        "df['dst_host_srv_serror_rate'].corr(df['serror_rate'])"
      ],
      "metadata": {
        "execution": {
          "iopub.status.busy": "2024-07-27T18:08:42.524797Z",
          "iopub.execute_input": "2024-07-27T18:08:42.525104Z",
          "iopub.status.idle": "2024-07-27T18:08:42.537069Z",
          "shell.execute_reply.started": "2024-07-27T18:08:42.525074Z",
          "shell.execute_reply": "2024-07-27T18:08:42.535985Z"
        },
        "trusted": true,
        "id": "04xcVw1sECEU"
      },
      "execution_count": null,
      "outputs": []
    },
    {
      "cell_type": "code",
      "source": [
        "df['dst_host_srv_serror_rate'].corr(df['srv_serror_rate'])"
      ],
      "metadata": {
        "execution": {
          "iopub.status.busy": "2024-07-27T18:08:42.538565Z",
          "iopub.execute_input": "2024-07-27T18:08:42.53897Z",
          "iopub.status.idle": "2024-07-27T18:08:42.551848Z",
          "shell.execute_reply.started": "2024-07-27T18:08:42.538937Z",
          "shell.execute_reply": "2024-07-27T18:08:42.550545Z"
        },
        "trusted": true,
        "id": "VGbjYe6FECEV"
      },
      "execution_count": null,
      "outputs": []
    },
    {
      "cell_type": "code",
      "source": [
        "df['dst_host_rerror_rate'].corr(df['rerror_rate'])"
      ],
      "metadata": {
        "execution": {
          "iopub.status.busy": "2024-07-27T18:08:42.553512Z",
          "iopub.execute_input": "2024-07-27T18:08:42.554036Z",
          "iopub.status.idle": "2024-07-27T18:08:42.567169Z",
          "shell.execute_reply.started": "2024-07-27T18:08:42.553987Z",
          "shell.execute_reply": "2024-07-27T18:08:42.566192Z"
        },
        "trusted": true,
        "id": "JgIn5SwgECEV"
      },
      "execution_count": null,
      "outputs": []
    },
    {
      "cell_type": "code",
      "source": [
        "df['dst_host_rerror_rate'].corr(df['srv_rerror_rate'])"
      ],
      "metadata": {
        "execution": {
          "iopub.status.busy": "2024-07-27T18:08:42.568681Z",
          "iopub.execute_input": "2024-07-27T18:08:42.569158Z",
          "iopub.status.idle": "2024-07-27T18:08:42.582632Z",
          "shell.execute_reply.started": "2024-07-27T18:08:42.569109Z",
          "shell.execute_reply": "2024-07-27T18:08:42.581681Z"
        },
        "trusted": true,
        "id": "_3C4t600ECEV"
      },
      "execution_count": null,
      "outputs": []
    },
    {
      "cell_type": "code",
      "source": [
        "df['dst_host_srv_rerror_rate'].corr(df['rerror_rate'])"
      ],
      "metadata": {
        "execution": {
          "iopub.status.busy": "2024-07-27T18:08:42.58419Z",
          "iopub.execute_input": "2024-07-27T18:08:42.584657Z",
          "iopub.status.idle": "2024-07-27T18:08:42.598459Z",
          "shell.execute_reply.started": "2024-07-27T18:08:42.584601Z",
          "shell.execute_reply": "2024-07-27T18:08:42.59748Z"
        },
        "trusted": true,
        "id": "NpVtcWN4ECEV"
      },
      "execution_count": null,
      "outputs": []
    },
    {
      "cell_type": "code",
      "source": [
        "df['dst_host_srv_rerror_rate'].corr(df['srv_rerror_rate'])"
      ],
      "metadata": {
        "execution": {
          "iopub.status.busy": "2024-07-27T18:08:42.599955Z",
          "iopub.execute_input": "2024-07-27T18:08:42.600441Z",
          "iopub.status.idle": "2024-07-27T18:08:42.613305Z",
          "shell.execute_reply.started": "2024-07-27T18:08:42.600405Z",
          "shell.execute_reply": "2024-07-27T18:08:42.612381Z"
        },
        "trusted": true,
        "id": "C_Z0rY4EECEV"
      },
      "execution_count": null,
      "outputs": []
    },
    {
      "cell_type": "code",
      "source": [
        "#This variable is highly correlated with num_compromised and should be ignored for analysis.\n",
        "#(Correlation = 0.9938277978738366)\n",
        "df.drop('num_root',axis = 1,inplace = True)\n",
        "\n",
        "#This variable is highly correlated with serror_rate and should be ignored for analysis.\n",
        "#(Correlation = 0.9983615072725952)\n",
        "df.drop('srv_serror_rate',axis = 1,inplace = True)\n",
        "\n",
        "#This variable is highly correlated with rerror_rate and should be ignored for analysis.\n",
        "#(Correlation = 0.9947309539817937)\n",
        "df.drop('srv_rerror_rate',axis = 1, inplace=True)\n",
        "\n",
        "#This variable is highly correlated with srv_serror_rate and should be ignored for analysis.\n",
        "#(Correlation = 0.9993041091850098)\n",
        "df.drop('dst_host_srv_serror_rate',axis = 1, inplace=True)\n",
        "\n",
        "#This variable is highly correlated with rerror_rate and should be ignored for analysis.\n",
        "#(Correlation = 0.9869947924956001)\n",
        "df.drop('dst_host_serror_rate',axis = 1, inplace=True)\n",
        "\n",
        "#This variable is highly correlated with srv_rerror_rate and should be ignored for analysis.\n",
        "#(Correlation = 0.9821663427308375)\n",
        "df.drop('dst_host_rerror_rate',axis = 1, inplace=True)\n",
        "\n",
        "#This variable is highly correlated with rerror_rate and should be ignored for analysis.\n",
        "#(Correlation = 0.9851995540751249)\n",
        "df.drop('dst_host_srv_rerror_rate',axis = 1, inplace=True)\n",
        "\n",
        "#This variable is highly correlated with dst_host_srv_count and should be ignored for analysis.\n",
        "#(Correlation = 0.9736854572953938)\n",
        "df.drop('dst_host_same_srv_rate',axis = 1, inplace=True)"
      ],
      "metadata": {
        "execution": {
          "iopub.status.busy": "2024-07-27T18:08:42.614617Z",
          "iopub.execute_input": "2024-07-27T18:08:42.615064Z",
          "iopub.status.idle": "2024-07-27T18:08:43.149745Z",
          "shell.execute_reply.started": "2024-07-27T18:08:42.615029Z",
          "shell.execute_reply": "2024-07-27T18:08:43.14877Z"
        },
        "trusted": true,
        "id": "gQpp73-hECEW"
      },
      "execution_count": null,
      "outputs": []
    },
    {
      "cell_type": "code",
      "source": [
        "df.head()"
      ],
      "metadata": {
        "execution": {
          "iopub.status.busy": "2024-07-27T18:08:43.151195Z",
          "iopub.execute_input": "2024-07-27T18:08:43.151515Z",
          "iopub.status.idle": "2024-07-27T18:08:43.181209Z",
          "shell.execute_reply.started": "2024-07-27T18:08:43.151483Z",
          "shell.execute_reply": "2024-07-27T18:08:43.180301Z"
        },
        "trusted": true,
        "id": "69a9AJ6qECEW"
      },
      "execution_count": null,
      "outputs": []
    },
    {
      "cell_type": "code",
      "source": [
        "df.shape"
      ],
      "metadata": {
        "execution": {
          "iopub.status.busy": "2024-07-27T18:08:43.182531Z",
          "iopub.execute_input": "2024-07-27T18:08:43.182902Z",
          "iopub.status.idle": "2024-07-27T18:08:43.194277Z",
          "shell.execute_reply.started": "2024-07-27T18:08:43.182866Z",
          "shell.execute_reply": "2024-07-27T18:08:43.193476Z"
        },
        "trusted": true,
        "id": "AfMIxyO0ECEW"
      },
      "execution_count": null,
      "outputs": []
    },
    {
      "cell_type": "code",
      "source": [
        "df.columns"
      ],
      "metadata": {
        "execution": {
          "iopub.status.busy": "2024-07-27T18:08:43.195478Z",
          "iopub.execute_input": "2024-07-27T18:08:43.195854Z",
          "iopub.status.idle": "2024-07-27T18:08:43.206297Z",
          "shell.execute_reply.started": "2024-07-27T18:08:43.195825Z",
          "shell.execute_reply": "2024-07-27T18:08:43.205525Z"
        },
        "trusted": true,
        "id": "iw-8NOjpECEW"
      },
      "execution_count": null,
      "outputs": []
    },
    {
      "cell_type": "code",
      "source": [
        "df_std = df.std()\n",
        "df_std = df_std.sort_values(ascending = True)\n",
        "df_std"
      ],
      "metadata": {
        "execution": {
          "iopub.status.busy": "2024-07-27T18:08:43.207491Z",
          "iopub.execute_input": "2024-07-27T18:08:43.207887Z",
          "iopub.status.idle": "2024-07-27T18:08:46.898594Z",
          "shell.execute_reply.started": "2024-07-27T18:08:43.207847Z",
          "shell.execute_reply": "2024-07-27T18:08:46.897679Z"
        },
        "trusted": true,
        "id": "OISsVDVoECEW"
      },
      "execution_count": null,
      "outputs": []
    },
    {
      "cell_type": "markdown",
      "source": [
        "FEATURE MAPPING"
      ],
      "metadata": {
        "id": "WcRHpvSmECEW"
      }
    },
    {
      "cell_type": "code",
      "source": [
        "df['protocol_type'].value_counts()"
      ],
      "metadata": {
        "execution": {
          "iopub.status.busy": "2024-07-27T18:08:46.900331Z",
          "iopub.execute_input": "2024-07-27T18:08:46.900784Z",
          "iopub.status.idle": "2024-07-27T18:08:47.033376Z",
          "shell.execute_reply.started": "2024-07-27T18:08:46.90074Z",
          "shell.execute_reply": "2024-07-27T18:08:47.032481Z"
        },
        "trusted": true,
        "id": "TUEKKM-lECEW"
      },
      "execution_count": null,
      "outputs": []
    },
    {
      "cell_type": "code",
      "source": [
        "#protocol_type feature mapping\n",
        "pmap = {'icmp':0,'tcp':1,'udp':2}\n",
        "df['protocol_type'] = df['protocol_type'].map(pmap)"
      ],
      "metadata": {
        "execution": {
          "iopub.status.busy": "2024-07-27T18:08:47.034494Z",
          "iopub.execute_input": "2024-07-27T18:08:47.034805Z",
          "iopub.status.idle": "2024-07-27T18:08:47.112894Z",
          "shell.execute_reply.started": "2024-07-27T18:08:47.034776Z",
          "shell.execute_reply": "2024-07-27T18:08:47.112052Z"
        },
        "trusted": true,
        "id": "DMLs2a4AECEX"
      },
      "execution_count": null,
      "outputs": []
    },
    {
      "cell_type": "code",
      "source": [
        "df['flag'].value_counts()"
      ],
      "metadata": {
        "execution": {
          "iopub.status.busy": "2024-07-27T18:08:47.114017Z",
          "iopub.execute_input": "2024-07-27T18:08:47.114302Z",
          "iopub.status.idle": "2024-07-27T18:08:47.240265Z",
          "shell.execute_reply.started": "2024-07-27T18:08:47.114273Z",
          "shell.execute_reply": "2024-07-27T18:08:47.239116Z"
        },
        "trusted": true,
        "id": "9QI8EYsYECEX"
      },
      "execution_count": null,
      "outputs": []
    },
    {
      "cell_type": "code",
      "source": [
        "#flag feature mapping\n",
        "fmap = {'SF':0,'S0':1,'REJ':2,'RSTR':3,'RSTO':4,'SH':5 ,'S1':6 ,'S2':7,'RSTOS0':8,'S3':9 ,'OTH':10}\n",
        "df['flag'] = df['flag'].map(fmap)"
      ],
      "metadata": {
        "execution": {
          "iopub.status.busy": "2024-07-27T18:08:47.24153Z",
          "iopub.execute_input": "2024-07-27T18:08:47.242019Z",
          "iopub.status.idle": "2024-07-27T18:08:47.342233Z",
          "shell.execute_reply.started": "2024-07-27T18:08:47.241981Z",
          "shell.execute_reply": "2024-07-27T18:08:47.341149Z"
        },
        "trusted": true,
        "id": "puM6folFECEX"
      },
      "execution_count": null,
      "outputs": []
    },
    {
      "cell_type": "code",
      "source": [
        "df.head()"
      ],
      "metadata": {
        "execution": {
          "iopub.status.busy": "2024-07-27T18:08:47.343819Z",
          "iopub.execute_input": "2024-07-27T18:08:47.344248Z",
          "iopub.status.idle": "2024-07-27T18:08:47.378028Z",
          "shell.execute_reply.started": "2024-07-27T18:08:47.344204Z",
          "shell.execute_reply": "2024-07-27T18:08:47.376943Z"
        },
        "trusted": true,
        "id": "EiE-qRI1ECEX"
      },
      "execution_count": null,
      "outputs": []
    },
    {
      "cell_type": "code",
      "source": [
        "df.drop('service',axis = 1,inplace= True)"
      ],
      "metadata": {
        "execution": {
          "iopub.status.busy": "2024-07-27T18:08:47.379732Z",
          "iopub.execute_input": "2024-07-27T18:08:47.380131Z",
          "iopub.status.idle": "2024-07-27T18:08:47.500253Z",
          "shell.execute_reply.started": "2024-07-27T18:08:47.380068Z",
          "shell.execute_reply": "2024-07-27T18:08:47.499393Z"
        },
        "trusted": true,
        "id": "oYUEVrsrECEX"
      },
      "execution_count": null,
      "outputs": []
    },
    {
      "cell_type": "code",
      "source": [
        "df.shape"
      ],
      "metadata": {
        "execution": {
          "iopub.status.busy": "2024-07-27T18:08:47.501526Z",
          "iopub.execute_input": "2024-07-27T18:08:47.501828Z",
          "iopub.status.idle": "2024-07-27T18:08:47.514529Z",
          "shell.execute_reply.started": "2024-07-27T18:08:47.501798Z",
          "shell.execute_reply": "2024-07-27T18:08:47.513374Z"
        },
        "trusted": true,
        "id": "z4JuAxMhECEX"
      },
      "execution_count": null,
      "outputs": []
    },
    {
      "cell_type": "code",
      "source": [
        "df.head()"
      ],
      "metadata": {
        "execution": {
          "iopub.status.busy": "2024-07-27T18:08:47.515712Z",
          "iopub.execute_input": "2024-07-27T18:08:47.516059Z",
          "iopub.status.idle": "2024-07-27T18:08:47.551163Z",
          "shell.execute_reply.started": "2024-07-27T18:08:47.516026Z",
          "shell.execute_reply": "2024-07-27T18:08:47.550119Z"
        },
        "trusted": true,
        "id": "R1vJXXjuECEX"
      },
      "execution_count": null,
      "outputs": []
    },
    {
      "cell_type": "code",
      "source": [
        "df.dtypes"
      ],
      "metadata": {
        "execution": {
          "iopub.status.busy": "2024-07-27T18:08:47.552717Z",
          "iopub.execute_input": "2024-07-27T18:08:47.553134Z",
          "iopub.status.idle": "2024-07-27T18:08:47.562435Z",
          "shell.execute_reply.started": "2024-07-27T18:08:47.553091Z",
          "shell.execute_reply": "2024-07-27T18:08:47.56146Z"
        },
        "trusted": true,
        "id": "9qgzCMRiECEX"
      },
      "execution_count": null,
      "outputs": []
    },
    {
      "cell_type": "markdown",
      "source": [
        "MODELLING"
      ],
      "metadata": {
        "id": "PvF1qIuFECEX"
      }
    },
    {
      "cell_type": "code",
      "source": [
        "from sklearn.model_selection import train_test_split\n",
        "from sklearn.preprocessing import MinMaxScaler\n",
        "from sklearn.metrics import accuracy_score"
      ],
      "metadata": {
        "execution": {
          "iopub.status.busy": "2024-07-27T18:08:47.564229Z",
          "iopub.execute_input": "2024-07-27T18:08:47.564689Z",
          "iopub.status.idle": "2024-07-27T18:08:47.659468Z",
          "shell.execute_reply.started": "2024-07-27T18:08:47.564627Z",
          "shell.execute_reply": "2024-07-27T18:08:47.65849Z"
        },
        "trusted": true,
        "id": "sGNWDZA1ECEX"
      },
      "execution_count": null,
      "outputs": []
    },
    {
      "cell_type": "code",
      "source": [
        "df = df.drop(['target',], axis=1)\n",
        "print(df.shape)\n",
        "\n",
        "# Target variable and train set\n",
        "Y = df[['Attack Type']]\n",
        "X = df.drop(['Attack Type',], axis=1)\n",
        "\n",
        "sc = MinMaxScaler()\n",
        "X = sc.fit_transform(X)\n",
        "\n",
        "# Split test and train data\n",
        "X_train, X_test, Y_train, Y_test = train_test_split(X, Y, test_size=0.33, random_state=42)\n",
        "print(X_train.shape, X_test.shape)\n",
        "print(Y_train.shape, Y_test.shape)"
      ],
      "metadata": {
        "execution": {
          "iopub.status.busy": "2024-07-27T18:08:47.662697Z",
          "iopub.execute_input": "2024-07-27T18:08:47.663144Z",
          "iopub.status.idle": "2024-07-27T18:08:48.22116Z",
          "shell.execute_reply.started": "2024-07-27T18:08:47.663082Z",
          "shell.execute_reply": "2024-07-27T18:08:48.220304Z"
        },
        "trusted": true,
        "id": "PF_5nGpDECEX"
      },
      "execution_count": null,
      "outputs": []
    },
    {
      "cell_type": "markdown",
      "source": [
        "GAUSSIAN NAIVE BAYES"
      ],
      "metadata": {
        "id": "T9w_KWMGECEY"
      }
    },
    {
      "cell_type": "code",
      "source": [
        "# Gaussian Naive Bayes\n",
        "from sklearn.naive_bayes import GaussianNB"
      ],
      "metadata": {
        "execution": {
          "iopub.status.busy": "2024-07-27T18:08:48.222548Z",
          "iopub.execute_input": "2024-07-27T18:08:48.222901Z",
          "iopub.status.idle": "2024-07-27T18:08:48.229217Z",
          "shell.execute_reply.started": "2024-07-27T18:08:48.222867Z",
          "shell.execute_reply": "2024-07-27T18:08:48.228431Z"
        },
        "trusted": true,
        "id": "h14aHG-CECEY"
      },
      "execution_count": null,
      "outputs": []
    },
    {
      "cell_type": "code",
      "source": [
        "model1 = GaussianNB()"
      ],
      "metadata": {
        "execution": {
          "iopub.status.busy": "2024-07-27T18:08:48.23063Z",
          "iopub.execute_input": "2024-07-27T18:08:48.230994Z",
          "iopub.status.idle": "2024-07-27T18:08:48.236792Z",
          "shell.execute_reply.started": "2024-07-27T18:08:48.230962Z",
          "shell.execute_reply": "2024-07-27T18:08:48.235929Z"
        },
        "trusted": true,
        "id": "Heqn6HmqECEY"
      },
      "execution_count": null,
      "outputs": []
    },
    {
      "cell_type": "code",
      "source": [
        "start_time = time.time()\n",
        "model1.fit(X_train, Y_train.values.ravel())\n",
        "end_time = time.time()"
      ],
      "metadata": {
        "execution": {
          "iopub.status.busy": "2024-07-27T18:08:48.238399Z",
          "iopub.execute_input": "2024-07-27T18:08:48.238758Z",
          "iopub.status.idle": "2024-07-27T18:08:49.264152Z",
          "shell.execute_reply.started": "2024-07-27T18:08:48.238711Z",
          "shell.execute_reply": "2024-07-27T18:08:49.262967Z"
        },
        "trusted": true,
        "id": "5yl1g4BtECEY"
      },
      "execution_count": null,
      "outputs": []
    },
    {
      "cell_type": "code",
      "source": [
        "print(\"Training time: \",end_time-start_time)"
      ],
      "metadata": {
        "execution": {
          "iopub.status.busy": "2024-07-27T18:08:49.265526Z",
          "iopub.execute_input": "2024-07-27T18:08:49.265894Z",
          "iopub.status.idle": "2024-07-27T18:08:49.270802Z",
          "shell.execute_reply.started": "2024-07-27T18:08:49.265861Z",
          "shell.execute_reply": "2024-07-27T18:08:49.269638Z"
        },
        "trusted": true,
        "id": "xGhyuFN3ECEY"
      },
      "execution_count": null,
      "outputs": []
    },
    {
      "cell_type": "code",
      "source": [
        "start_time = time.time()\n",
        "Y_test_pred1 = model1.predict(X_test)\n",
        "end_time = time.time()"
      ],
      "metadata": {
        "execution": {
          "iopub.status.busy": "2024-07-27T18:08:49.272314Z",
          "iopub.execute_input": "2024-07-27T18:08:49.272721Z",
          "iopub.status.idle": "2024-07-27T18:08:49.479943Z",
          "shell.execute_reply.started": "2024-07-27T18:08:49.272681Z",
          "shell.execute_reply": "2024-07-27T18:08:49.47894Z"
        },
        "trusted": true,
        "id": "nI8X9-h2ECEY"
      },
      "execution_count": null,
      "outputs": []
    },
    {
      "cell_type": "code",
      "source": [
        "print(\"Testing time: \",end_time-start_time)"
      ],
      "metadata": {
        "execution": {
          "iopub.status.busy": "2024-07-27T18:08:49.481371Z",
          "iopub.execute_input": "2024-07-27T18:08:49.481724Z",
          "iopub.status.idle": "2024-07-27T18:08:49.486642Z",
          "shell.execute_reply.started": "2024-07-27T18:08:49.481678Z",
          "shell.execute_reply": "2024-07-27T18:08:49.485751Z"
        },
        "trusted": true,
        "id": "w9MuE5CNECEY"
      },
      "execution_count": null,
      "outputs": []
    },
    {
      "cell_type": "code",
      "source": [
        "print(\"Train score is:\", model1.score(X_train, Y_train))\n",
        "print(\"Test score is:\",model1.score(X_test,Y_test))"
      ],
      "metadata": {
        "execution": {
          "iopub.status.busy": "2024-07-27T18:08:49.488354Z",
          "iopub.execute_input": "2024-07-27T18:08:49.48869Z",
          "iopub.status.idle": "2024-07-27T18:08:50.787825Z",
          "shell.execute_reply.started": "2024-07-27T18:08:49.488624Z",
          "shell.execute_reply": "2024-07-27T18:08:50.787033Z"
        },
        "trusted": true,
        "id": "QFRJDGg2ECEY"
      },
      "execution_count": null,
      "outputs": []
    },
    {
      "cell_type": "markdown",
      "source": [
        "DECISION TREE"
      ],
      "metadata": {
        "id": "ipYylKBjECEY"
      }
    },
    {
      "cell_type": "code",
      "source": [
        "#Decision Tree\n",
        "from sklearn.tree import DecisionTreeClassifier"
      ],
      "metadata": {
        "execution": {
          "iopub.status.busy": "2024-07-27T18:08:50.788808Z",
          "iopub.execute_input": "2024-07-27T18:08:50.789076Z",
          "iopub.status.idle": "2024-07-27T18:08:50.927931Z",
          "shell.execute_reply.started": "2024-07-27T18:08:50.789048Z",
          "shell.execute_reply": "2024-07-27T18:08:50.927036Z"
        },
        "trusted": true,
        "id": "RE8OKqb0ECEY"
      },
      "execution_count": null,
      "outputs": []
    },
    {
      "cell_type": "code",
      "source": [
        "model2 = DecisionTreeClassifier(criterion=\"entropy\", max_depth = 4)"
      ],
      "metadata": {
        "execution": {
          "iopub.status.busy": "2024-07-27T18:08:50.929282Z",
          "iopub.execute_input": "2024-07-27T18:08:50.929601Z",
          "iopub.status.idle": "2024-07-27T18:08:50.933717Z",
          "shell.execute_reply.started": "2024-07-27T18:08:50.929572Z",
          "shell.execute_reply": "2024-07-27T18:08:50.932849Z"
        },
        "trusted": true,
        "id": "MGBwBnuQECEY"
      },
      "execution_count": null,
      "outputs": []
    },
    {
      "cell_type": "code",
      "source": [
        "start_time = time.time()\n",
        "model2.fit(X_train, Y_train.values.ravel())\n",
        "end_time = time.time()"
      ],
      "metadata": {
        "execution": {
          "iopub.status.busy": "2024-07-27T18:08:50.934947Z",
          "iopub.execute_input": "2024-07-27T18:08:50.935345Z",
          "iopub.status.idle": "2024-07-27T18:08:52.445977Z",
          "shell.execute_reply.started": "2024-07-27T18:08:50.935307Z",
          "shell.execute_reply": "2024-07-27T18:08:52.44514Z"
        },
        "trusted": true,
        "id": "pcLJ-VZKECEZ"
      },
      "execution_count": null,
      "outputs": []
    },
    {
      "cell_type": "code",
      "source": [
        "print(\"Training time: \",end_time-start_time)"
      ],
      "metadata": {
        "execution": {
          "iopub.status.busy": "2024-07-27T18:08:52.4472Z",
          "iopub.execute_input": "2024-07-27T18:08:52.447482Z",
          "iopub.status.idle": "2024-07-27T18:08:52.452291Z",
          "shell.execute_reply.started": "2024-07-27T18:08:52.447454Z",
          "shell.execute_reply": "2024-07-27T18:08:52.451311Z"
        },
        "trusted": true,
        "id": "h5MQYWuQECEZ"
      },
      "execution_count": null,
      "outputs": []
    },
    {
      "cell_type": "code",
      "source": [
        "start_time = time.time()\n",
        "Y_test_pred2 = model2.predict(X_test)\n",
        "end_time = time.time()"
      ],
      "metadata": {
        "execution": {
          "iopub.status.busy": "2024-07-27T18:08:52.45385Z",
          "iopub.execute_input": "2024-07-27T18:08:52.454216Z",
          "iopub.status.idle": "2024-07-27T18:08:52.482212Z",
          "shell.execute_reply.started": "2024-07-27T18:08:52.454182Z",
          "shell.execute_reply": "2024-07-27T18:08:52.481514Z"
        },
        "trusted": true,
        "id": "di8GVcE0ECEZ"
      },
      "execution_count": null,
      "outputs": []
    },
    {
      "cell_type": "code",
      "source": [
        "print(\"Testing time: \",end_time-start_time)"
      ],
      "metadata": {
        "execution": {
          "iopub.status.busy": "2024-07-27T18:08:52.483429Z",
          "iopub.execute_input": "2024-07-27T18:08:52.483735Z",
          "iopub.status.idle": "2024-07-27T18:08:52.488941Z",
          "shell.execute_reply.started": "2024-07-27T18:08:52.483699Z",
          "shell.execute_reply": "2024-07-27T18:08:52.488089Z"
        },
        "trusted": true,
        "id": "tILdUURFECEZ"
      },
      "execution_count": null,
      "outputs": []
    },
    {
      "cell_type": "code",
      "source": [
        "print(\"Train score is:\", model2.score(X_train, Y_train))\n",
        "print(\"Test score is:\",model2.score(X_test,Y_test))"
      ],
      "metadata": {
        "execution": {
          "iopub.status.busy": "2024-07-27T18:08:52.490208Z",
          "iopub.execute_input": "2024-07-27T18:08:52.490575Z",
          "iopub.status.idle": "2024-07-27T18:08:53.652214Z",
          "shell.execute_reply.started": "2024-07-27T18:08:52.490544Z",
          "shell.execute_reply": "2024-07-27T18:08:53.651034Z"
        },
        "trusted": true,
        "id": "fRDY5ZYGECEZ"
      },
      "execution_count": null,
      "outputs": []
    },
    {
      "cell_type": "markdown",
      "source": [
        "RANDOM FOREST"
      ],
      "metadata": {
        "id": "vF31nUvvECEZ"
      }
    },
    {
      "cell_type": "code",
      "source": [
        "from sklearn.ensemble import RandomForestClassifier"
      ],
      "metadata": {
        "execution": {
          "iopub.status.busy": "2024-07-27T18:08:53.653734Z",
          "iopub.execute_input": "2024-07-27T18:08:53.654161Z",
          "iopub.status.idle": "2024-07-27T18:08:53.678496Z",
          "shell.execute_reply.started": "2024-07-27T18:08:53.654126Z",
          "shell.execute_reply": "2024-07-27T18:08:53.677779Z"
        },
        "trusted": true,
        "id": "77xQMUA1ECEZ"
      },
      "execution_count": null,
      "outputs": []
    },
    {
      "cell_type": "code",
      "source": [
        "model3 = RandomForestClassifier(n_estimators=30)"
      ],
      "metadata": {
        "execution": {
          "iopub.status.busy": "2024-07-27T18:08:53.680129Z",
          "iopub.execute_input": "2024-07-27T18:08:53.680547Z",
          "iopub.status.idle": "2024-07-27T18:08:53.685092Z",
          "shell.execute_reply.started": "2024-07-27T18:08:53.680504Z",
          "shell.execute_reply": "2024-07-27T18:08:53.68394Z"
        },
        "trusted": true,
        "id": "od-wv3JYECEZ"
      },
      "execution_count": null,
      "outputs": []
    },
    {
      "cell_type": "code",
      "source": [
        "start_time = time.time()\n",
        "model3.fit(X_train, Y_train.values.ravel())\n",
        "end_time = time.time()"
      ],
      "metadata": {
        "execution": {
          "iopub.status.busy": "2024-07-27T18:08:53.686226Z",
          "iopub.execute_input": "2024-07-27T18:08:53.68651Z",
          "iopub.status.idle": "2024-07-27T18:09:01.763531Z",
          "shell.execute_reply.started": "2024-07-27T18:08:53.686483Z",
          "shell.execute_reply": "2024-07-27T18:09:01.762675Z"
        },
        "trusted": true,
        "id": "OaxWvInRECEZ"
      },
      "execution_count": null,
      "outputs": []
    },
    {
      "cell_type": "code",
      "source": [
        "print(\"Training time: \",end_time-start_time)"
      ],
      "metadata": {
        "execution": {
          "iopub.status.busy": "2024-07-27T18:09:01.764865Z",
          "iopub.execute_input": "2024-07-27T18:09:01.765264Z",
          "iopub.status.idle": "2024-07-27T18:09:01.769943Z",
          "shell.execute_reply.started": "2024-07-27T18:09:01.765227Z",
          "shell.execute_reply": "2024-07-27T18:09:01.769006Z"
        },
        "trusted": true,
        "id": "fn_iCjhPECEZ"
      },
      "execution_count": null,
      "outputs": []
    },
    {
      "cell_type": "code",
      "source": [
        "start_time = time.time()\n",
        "Y_test_pred3 = model3.predict(X_test)\n",
        "end_time = time.time()"
      ],
      "metadata": {
        "execution": {
          "iopub.status.busy": "2024-07-27T18:09:01.771487Z",
          "iopub.execute_input": "2024-07-27T18:09:01.7719Z",
          "iopub.status.idle": "2024-07-27T18:09:02.185456Z",
          "shell.execute_reply.started": "2024-07-27T18:09:01.771863Z",
          "shell.execute_reply": "2024-07-27T18:09:02.184488Z"
        },
        "trusted": true,
        "id": "Pf_rvljbECEZ"
      },
      "execution_count": null,
      "outputs": []
    },
    {
      "cell_type": "code",
      "source": [
        "print(\"Testing time: \",end_time-start_time)"
      ],
      "metadata": {
        "execution": {
          "iopub.status.busy": "2024-07-27T18:09:02.186907Z",
          "iopub.execute_input": "2024-07-27T18:09:02.187236Z",
          "iopub.status.idle": "2024-07-27T18:09:02.192014Z",
          "shell.execute_reply.started": "2024-07-27T18:09:02.187206Z",
          "shell.execute_reply": "2024-07-27T18:09:02.191118Z"
        },
        "trusted": true,
        "id": "I59P_goNECEZ"
      },
      "execution_count": null,
      "outputs": []
    },
    {
      "cell_type": "code",
      "source": [
        "print(\"Train score is:\", model3.score(X_train, Y_train))\n",
        "print(\"Test score is:\",model3.score(X_test,Y_test))"
      ],
      "metadata": {
        "execution": {
          "iopub.status.busy": "2024-07-27T18:09:02.193746Z",
          "iopub.execute_input": "2024-07-27T18:09:02.194052Z",
          "iopub.status.idle": "2024-07-27T18:09:04.57695Z",
          "shell.execute_reply.started": "2024-07-27T18:09:02.194021Z",
          "shell.execute_reply": "2024-07-27T18:09:04.576049Z"
        },
        "trusted": true,
        "id": "1fgF1mhuECEa"
      },
      "execution_count": null,
      "outputs": []
    },
    {
      "cell_type": "markdown",
      "source": [
        "SUPPORT VECTOR MACHINE"
      ],
      "metadata": {
        "id": "XawG4ZMxECEa"
      }
    },
    {
      "cell_type": "code",
      "source": [
        "from sklearn.svm import SVC"
      ],
      "metadata": {
        "execution": {
          "iopub.status.busy": "2024-07-27T18:09:04.578213Z",
          "iopub.execute_input": "2024-07-27T18:09:04.57852Z",
          "iopub.status.idle": "2024-07-27T18:09:04.58294Z",
          "shell.execute_reply.started": "2024-07-27T18:09:04.57849Z",
          "shell.execute_reply": "2024-07-27T18:09:04.581975Z"
        },
        "trusted": true,
        "id": "sMhnvxGiECEa"
      },
      "execution_count": null,
      "outputs": []
    },
    {
      "cell_type": "code",
      "source": [
        "model4 = SVC(gamma = 'scale')"
      ],
      "metadata": {
        "execution": {
          "iopub.status.busy": "2024-07-27T18:09:04.58407Z",
          "iopub.execute_input": "2024-07-27T18:09:04.584343Z",
          "iopub.status.idle": "2024-07-27T18:09:04.59405Z",
          "shell.execute_reply.started": "2024-07-27T18:09:04.584316Z",
          "shell.execute_reply": "2024-07-27T18:09:04.593109Z"
        },
        "trusted": true,
        "id": "N5Mnk9ckECEa"
      },
      "execution_count": null,
      "outputs": []
    },
    {
      "cell_type": "code",
      "source": [
        "start_time = time.time()\n",
        "model4.fit(X_train, Y_train.values.ravel())\n",
        "end_time = time.time()"
      ],
      "metadata": {
        "execution": {
          "iopub.status.busy": "2024-07-27T18:09:04.597288Z",
          "iopub.execute_input": "2024-07-27T18:09:04.597585Z",
          "iopub.status.idle": "2024-07-27T18:11:35.44041Z",
          "shell.execute_reply.started": "2024-07-27T18:09:04.597555Z",
          "shell.execute_reply": "2024-07-27T18:11:35.43955Z"
        },
        "trusted": true,
        "id": "8_4nzk3SECEa"
      },
      "execution_count": null,
      "outputs": []
    },
    {
      "cell_type": "code",
      "source": [
        "print(\"Training time: \",end_time-start_time)"
      ],
      "metadata": {
        "execution": {
          "iopub.status.busy": "2024-07-27T18:11:35.44172Z",
          "iopub.execute_input": "2024-07-27T18:11:35.442035Z",
          "iopub.status.idle": "2024-07-27T18:11:35.446869Z",
          "shell.execute_reply.started": "2024-07-27T18:11:35.442003Z",
          "shell.execute_reply": "2024-07-27T18:11:35.446001Z"
        },
        "trusted": true,
        "id": "8P20e3eWECEa"
      },
      "execution_count": null,
      "outputs": []
    },
    {
      "cell_type": "code",
      "source": [
        "start_time = time.time()\n",
        "Y_test_pred4 = model4.predict(X_test)\n",
        "end_time = time.time()"
      ],
      "metadata": {
        "execution": {
          "iopub.status.busy": "2024-07-27T18:11:35.448389Z",
          "iopub.execute_input": "2024-07-27T18:11:35.448962Z",
          "iopub.status.idle": "2024-07-27T18:12:17.623589Z",
          "shell.execute_reply.started": "2024-07-27T18:11:35.448919Z",
          "shell.execute_reply": "2024-07-27T18:12:17.622698Z"
        },
        "trusted": true,
        "id": "lQ2fetPpECEa"
      },
      "execution_count": null,
      "outputs": []
    },
    {
      "cell_type": "code",
      "source": [
        "print(\"Testing time: \",end_time-start_time)"
      ],
      "metadata": {
        "execution": {
          "iopub.status.busy": "2024-07-27T18:12:17.624916Z",
          "iopub.execute_input": "2024-07-27T18:12:17.625225Z",
          "iopub.status.idle": "2024-07-27T18:12:17.630232Z",
          "shell.execute_reply.started": "2024-07-27T18:12:17.625194Z",
          "shell.execute_reply": "2024-07-27T18:12:17.629102Z"
        },
        "trusted": true,
        "id": "MEiq2mYOECEa"
      },
      "execution_count": null,
      "outputs": []
    },
    {
      "cell_type": "code",
      "source": [
        "print(\"Train score is:\", model4.score(X_train, Y_train))\n",
        "print(\"Test score is:\", model4.score(X_test,Y_test))"
      ],
      "metadata": {
        "execution": {
          "iopub.status.busy": "2024-07-27T18:12:17.631749Z",
          "iopub.execute_input": "2024-07-27T18:12:17.632152Z",
          "iopub.status.idle": "2024-07-27T18:14:27.729891Z",
          "shell.execute_reply.started": "2024-07-27T18:12:17.632108Z",
          "shell.execute_reply": "2024-07-27T18:14:27.729053Z"
        },
        "trusted": true,
        "id": "aLR5Aa-UECEa"
      },
      "execution_count": null,
      "outputs": []
    },
    {
      "cell_type": "markdown",
      "source": [
        "LOGISTIC REGRESSION"
      ],
      "metadata": {
        "id": "ioUyId_pECEa"
      }
    },
    {
      "cell_type": "code",
      "source": [
        "from sklearn.linear_model import LogisticRegression"
      ],
      "metadata": {
        "execution": {
          "iopub.status.busy": "2024-07-27T18:14:27.731203Z",
          "iopub.execute_input": "2024-07-27T18:14:27.731509Z",
          "iopub.status.idle": "2024-07-27T18:14:27.735629Z",
          "shell.execute_reply.started": "2024-07-27T18:14:27.731479Z",
          "shell.execute_reply": "2024-07-27T18:14:27.734728Z"
        },
        "trusted": true,
        "id": "GFwF-AQyECEb"
      },
      "execution_count": null,
      "outputs": []
    },
    {
      "cell_type": "code",
      "source": [
        "model5 = LogisticRegression(max_iter=1200000)"
      ],
      "metadata": {
        "execution": {
          "iopub.status.busy": "2024-07-27T18:14:27.737194Z",
          "iopub.execute_input": "2024-07-27T18:14:27.7375Z",
          "iopub.status.idle": "2024-07-27T18:14:27.74812Z",
          "shell.execute_reply.started": "2024-07-27T18:14:27.737471Z",
          "shell.execute_reply": "2024-07-27T18:14:27.747394Z"
        },
        "trusted": true,
        "id": "rtmOUYJPECEb"
      },
      "execution_count": null,
      "outputs": []
    },
    {
      "cell_type": "code",
      "source": [
        "start_time = time.time()\n",
        "model5.fit(X_train, Y_train.values.ravel())\n",
        "end_time = time.time()"
      ],
      "metadata": {
        "execution": {
          "iopub.status.busy": "2024-07-27T18:14:27.749487Z",
          "iopub.execute_input": "2024-07-27T18:14:27.749847Z",
          "iopub.status.idle": "2024-07-27T18:15:10.001838Z",
          "shell.execute_reply.started": "2024-07-27T18:14:27.749813Z",
          "shell.execute_reply": "2024-07-27T18:15:10.000861Z"
        },
        "trusted": true,
        "id": "rl0CU8TkECEb"
      },
      "execution_count": null,
      "outputs": []
    },
    {
      "cell_type": "code",
      "source": [
        "print(\"Training time: \",end_time-start_time)"
      ],
      "metadata": {
        "execution": {
          "iopub.status.busy": "2024-07-27T18:15:10.003286Z",
          "iopub.execute_input": "2024-07-27T18:15:10.003639Z",
          "iopub.status.idle": "2024-07-27T18:15:10.008888Z",
          "shell.execute_reply.started": "2024-07-27T18:15:10.003603Z",
          "shell.execute_reply": "2024-07-27T18:15:10.007959Z"
        },
        "trusted": true,
        "id": "r8APoBW8ECEb"
      },
      "execution_count": null,
      "outputs": []
    },
    {
      "cell_type": "code",
      "source": [
        "start_time = time.time()\n",
        "Y_test_pred5 = model5.predict(X_test)\n",
        "end_time = time.time()"
      ],
      "metadata": {
        "execution": {
          "iopub.status.busy": "2024-07-27T18:15:10.010432Z",
          "iopub.execute_input": "2024-07-27T18:15:10.010953Z",
          "iopub.status.idle": "2024-07-27T18:15:10.037903Z",
          "shell.execute_reply.started": "2024-07-27T18:15:10.010894Z",
          "shell.execute_reply": "2024-07-27T18:15:10.036897Z"
        },
        "trusted": true,
        "id": "VQTw5LoQECEb"
      },
      "execution_count": null,
      "outputs": []
    },
    {
      "cell_type": "code",
      "source": [
        "print(\"Testing time: \",end_time-start_time)"
      ],
      "metadata": {
        "execution": {
          "iopub.status.busy": "2024-07-27T18:15:10.039272Z",
          "iopub.execute_input": "2024-07-27T18:15:10.039582Z",
          "iopub.status.idle": "2024-07-27T18:15:10.044377Z",
          "shell.execute_reply.started": "2024-07-27T18:15:10.039551Z",
          "shell.execute_reply": "2024-07-27T18:15:10.043508Z"
        },
        "trusted": true,
        "id": "1ehvaQ8CECEb"
      },
      "execution_count": null,
      "outputs": []
    },
    {
      "cell_type": "code",
      "source": [
        "print(\"Train score is:\", model5.score(X_train, Y_train))\n",
        "print(\"Test score is:\",model5.score(X_test,Y_test))"
      ],
      "metadata": {
        "execution": {
          "iopub.status.busy": "2024-07-27T18:15:10.045729Z",
          "iopub.execute_input": "2024-07-27T18:15:10.046278Z",
          "iopub.status.idle": "2024-07-27T18:15:11.278246Z",
          "shell.execute_reply.started": "2024-07-27T18:15:10.046214Z",
          "shell.execute_reply": "2024-07-27T18:15:11.277223Z"
        },
        "trusted": true,
        "id": "fh3Q77BsECEb"
      },
      "execution_count": null,
      "outputs": []
    },
    {
      "cell_type": "markdown",
      "source": [
        "GRADIENT BOOSTING CLASSIFIER"
      ],
      "metadata": {
        "id": "3K2sWZkqECEb"
      }
    },
    {
      "cell_type": "code",
      "source": [
        "from sklearn.ensemble import GradientBoostingClassifier"
      ],
      "metadata": {
        "execution": {
          "iopub.status.busy": "2024-07-27T18:15:11.279504Z",
          "iopub.execute_input": "2024-07-27T18:15:11.279863Z",
          "iopub.status.idle": "2024-07-27T18:15:11.283858Z",
          "shell.execute_reply.started": "2024-07-27T18:15:11.279831Z",
          "shell.execute_reply": "2024-07-27T18:15:11.283044Z"
        },
        "trusted": true,
        "id": "_Jop-CYaECEb"
      },
      "execution_count": null,
      "outputs": []
    },
    {
      "cell_type": "code",
      "source": [
        "model6 = GradientBoostingClassifier(random_state=0)"
      ],
      "metadata": {
        "execution": {
          "iopub.status.busy": "2024-07-27T18:15:11.285444Z",
          "iopub.execute_input": "2024-07-27T18:15:11.285832Z",
          "iopub.status.idle": "2024-07-27T18:15:11.296621Z",
          "shell.execute_reply.started": "2024-07-27T18:15:11.2858Z",
          "shell.execute_reply": "2024-07-27T18:15:11.29559Z"
        },
        "trusted": true,
        "id": "0-_c74DLECEb"
      },
      "execution_count": null,
      "outputs": []
    },
    {
      "cell_type": "code",
      "source": [
        "start_time = time.time()\n",
        "model6.fit(X_train, Y_train.values.ravel())\n",
        "end_time = time.time()"
      ],
      "metadata": {
        "execution": {
          "iopub.status.busy": "2024-07-27T18:15:11.298124Z",
          "iopub.execute_input": "2024-07-27T18:15:11.298556Z",
          "iopub.status.idle": "2024-07-27T18:20:30.84979Z",
          "shell.execute_reply.started": "2024-07-27T18:15:11.298514Z",
          "shell.execute_reply": "2024-07-27T18:20:30.848948Z"
        },
        "trusted": true,
        "id": "qZ5C8lmaECEb"
      },
      "execution_count": null,
      "outputs": []
    },
    {
      "cell_type": "code",
      "source": [
        "print(\"Training time: \",end_time-start_time)"
      ],
      "metadata": {
        "execution": {
          "iopub.status.busy": "2024-07-27T18:20:30.850893Z",
          "iopub.execute_input": "2024-07-27T18:20:30.851176Z",
          "iopub.status.idle": "2024-07-27T18:20:30.855687Z",
          "shell.execute_reply.started": "2024-07-27T18:20:30.851147Z",
          "shell.execute_reply": "2024-07-27T18:20:30.854743Z"
        },
        "trusted": true,
        "id": "tLWAZMfFECEc"
      },
      "execution_count": null,
      "outputs": []
    },
    {
      "cell_type": "code",
      "source": [
        "start_time = time.time()\n",
        "Y_test_pred6 = model6.predict(X_test)\n",
        "end_time = time.time()"
      ],
      "metadata": {
        "execution": {
          "iopub.status.busy": "2024-07-27T18:20:30.85699Z",
          "iopub.execute_input": "2024-07-27T18:20:30.857378Z",
          "iopub.status.idle": "2024-07-27T18:20:31.691961Z",
          "shell.execute_reply.started": "2024-07-27T18:20:30.85734Z",
          "shell.execute_reply": "2024-07-27T18:20:31.691021Z"
        },
        "trusted": true,
        "id": "wA1y0RSqECEc"
      },
      "execution_count": null,
      "outputs": []
    },
    {
      "cell_type": "code",
      "source": [
        "print(\"Testing time: \",end_time-start_time)"
      ],
      "metadata": {
        "execution": {
          "iopub.status.busy": "2024-07-27T18:20:31.693241Z",
          "iopub.execute_input": "2024-07-27T18:20:31.693522Z",
          "iopub.status.idle": "2024-07-27T18:20:31.698257Z",
          "shell.execute_reply.started": "2024-07-27T18:20:31.693493Z",
          "shell.execute_reply": "2024-07-27T18:20:31.697348Z"
        },
        "trusted": true,
        "id": "WGhDgIxyECEc"
      },
      "execution_count": null,
      "outputs": []
    },
    {
      "cell_type": "code",
      "source": [
        "print(\"Train score is:\", model6.score(X_train, Y_train))\n",
        "print(\"Test score is:\", model6.score(X_test,Y_test))"
      ],
      "metadata": {
        "execution": {
          "iopub.status.busy": "2024-07-27T18:20:31.699826Z",
          "iopub.execute_input": "2024-07-27T18:20:31.700186Z",
          "iopub.status.idle": "2024-07-27T18:20:35.856442Z",
          "shell.execute_reply.started": "2024-07-27T18:20:31.700153Z",
          "shell.execute_reply": "2024-07-27T18:20:35.855609Z"
        },
        "trusted": true,
        "id": "E9YFlF--ECEc"
      },
      "execution_count": null,
      "outputs": []
    },
    {
      "cell_type": "markdown",
      "source": [
        "Artificial Neural Network"
      ],
      "metadata": {
        "id": "gXszOG4jECEc"
      }
    },
    {
      "cell_type": "code",
      "source": [
        "from keras.models import Sequential\n",
        "from keras.layers import Dense\n",
        "from keras.wrappers.scikit_learn import KerasClassifier"
      ],
      "metadata": {
        "execution": {
          "iopub.status.busy": "2024-07-27T18:20:35.857619Z",
          "iopub.execute_input": "2024-07-27T18:20:35.857933Z",
          "iopub.status.idle": "2024-07-27T18:20:36.068778Z",
          "shell.execute_reply.started": "2024-07-27T18:20:35.857902Z",
          "shell.execute_reply": "2024-07-27T18:20:36.067883Z"
        },
        "trusted": true,
        "id": "25FiALffECEc"
      },
      "execution_count": null,
      "outputs": []
    },
    {
      "cell_type": "code",
      "source": [
        "def fun():\n",
        "    model = Sequential()\n",
        "\n",
        "    #here 30 is output dimension\n",
        "    model.add(Dense(30,input_dim =30,activation = 'relu',kernel_initializer='random_uniform'))\n",
        "\n",
        "    #in next layer we do not specify the input_dim as the model is sequential so output of previous layer is input to next layer\n",
        "    model.add(Dense(1,activation='sigmoid',kernel_initializer='random_uniform'))\n",
        "\n",
        "    #5 classes-normal,dos,probe,r2l,u2r\n",
        "    model.add(Dense(5,activation='softmax'))\n",
        "\n",
        "    #loss is categorical_crossentropy which specifies that we have multiple classes\n",
        "\n",
        "    model.compile(loss ='categorical_crossentropy',optimizer = 'adam',metrics = ['accuracy'])\n",
        "\n",
        "    return model"
      ],
      "metadata": {
        "execution": {
          "iopub.status.busy": "2024-07-27T18:20:36.070183Z",
          "iopub.execute_input": "2024-07-27T18:20:36.070545Z",
          "iopub.status.idle": "2024-07-27T18:20:36.077781Z",
          "shell.execute_reply.started": "2024-07-27T18:20:36.070513Z",
          "shell.execute_reply": "2024-07-27T18:20:36.076973Z"
        },
        "trusted": true,
        "id": "q6gSUxf5ECEc"
      },
      "execution_count": null,
      "outputs": []
    },
    {
      "cell_type": "code",
      "source": [
        "#Since,the dataset is very big and we cannot fit complete data at once so we use batch size.\n",
        "#This divides our data into batches each of size equal to batch_size.\n",
        "#Now only this number of samples will be loaded into memory and processed.\n",
        "#Once we are done with one batch it is flushed from memory and the next batch will be processed.\n",
        "model7 = KerasClassifier(build_fn=fun,epochs=100,batch_size=64)"
      ],
      "metadata": {
        "execution": {
          "iopub.status.busy": "2024-07-27T18:20:36.079295Z",
          "iopub.execute_input": "2024-07-27T18:20:36.079751Z",
          "iopub.status.idle": "2024-07-27T18:20:36.094197Z",
          "shell.execute_reply.started": "2024-07-27T18:20:36.07971Z",
          "shell.execute_reply": "2024-07-27T18:20:36.093515Z"
        },
        "trusted": true,
        "id": "ArBi0woOECEc"
      },
      "execution_count": null,
      "outputs": []
    },
    {
      "cell_type": "code",
      "source": [
        "start = time.time()\n",
        "model7.fit(X_train, Y_train.values.ravel())\n",
        "end = time.time()"
      ],
      "metadata": {
        "execution": {
          "iopub.status.busy": "2024-07-27T18:20:36.095278Z",
          "iopub.execute_input": "2024-07-27T18:20:36.09559Z",
          "iopub.status.idle": "2024-07-27T18:39:07.497844Z",
          "shell.execute_reply.started": "2024-07-27T18:20:36.095547Z",
          "shell.execute_reply": "2024-07-27T18:39:07.496689Z"
        },
        "trusted": true,
        "id": "Jb2nG__JECEc"
      },
      "execution_count": null,
      "outputs": []
    },
    {
      "cell_type": "code",
      "source": [
        "print('Training time')\n",
        "print((end-start))"
      ],
      "metadata": {
        "execution": {
          "iopub.status.busy": "2024-07-27T18:39:07.499547Z",
          "iopub.execute_input": "2024-07-27T18:39:07.49992Z",
          "iopub.status.idle": "2024-07-27T18:39:07.505507Z",
          "shell.execute_reply.started": "2024-07-27T18:39:07.499884Z",
          "shell.execute_reply": "2024-07-27T18:39:07.504466Z"
        },
        "trusted": true,
        "id": "-2ZResjGECEc"
      },
      "execution_count": null,
      "outputs": []
    },
    {
      "cell_type": "code",
      "source": [
        "start_time = time.time()\n",
        "Y_test_pred7 = model7.predict(X_test)\n",
        "end_time = time.time()"
      ],
      "metadata": {
        "execution": {
          "iopub.status.busy": "2024-07-27T18:39:07.507366Z",
          "iopub.execute_input": "2024-07-27T18:39:07.50783Z",
          "iopub.status.idle": "2024-07-27T18:39:09.463525Z",
          "shell.execute_reply.started": "2024-07-27T18:39:07.507783Z",
          "shell.execute_reply": "2024-07-27T18:39:09.462725Z"
        },
        "trusted": true,
        "id": "Z_QXKmaSECEc"
      },
      "execution_count": null,
      "outputs": []
    },
    {
      "cell_type": "code",
      "source": [
        "print(\"Testing time: \",end_time-start_time)"
      ],
      "metadata": {
        "execution": {
          "iopub.status.busy": "2024-07-27T18:39:09.465237Z",
          "iopub.execute_input": "2024-07-27T18:39:09.465689Z",
          "iopub.status.idle": "2024-07-27T18:39:09.471597Z",
          "shell.execute_reply.started": "2024-07-27T18:39:09.465624Z",
          "shell.execute_reply": "2024-07-27T18:39:09.470615Z"
        },
        "trusted": true,
        "id": "jCJHN97qECEd"
      },
      "execution_count": null,
      "outputs": []
    },
    {
      "cell_type": "code",
      "source": [
        "start_time = time.time()\n",
        "Y_train_pred7 = model7.predict(X_train)\n",
        "end_time = time.time()"
      ],
      "metadata": {
        "execution": {
          "iopub.status.busy": "2024-07-27T18:39:09.473256Z",
          "iopub.execute_input": "2024-07-27T18:39:09.473697Z",
          "iopub.status.idle": "2024-07-27T18:39:13.163394Z",
          "shell.execute_reply.started": "2024-07-27T18:39:09.473636Z",
          "shell.execute_reply": "2024-07-27T18:39:13.162182Z"
        },
        "trusted": true,
        "id": "0PrQKNhUECEd"
      },
      "execution_count": null,
      "outputs": []
    },
    {
      "cell_type": "code",
      "source": [
        "accuracy_score(Y_train,Y_train_pred7)"
      ],
      "metadata": {
        "execution": {
          "iopub.status.busy": "2024-07-27T18:39:13.16495Z",
          "iopub.execute_input": "2024-07-27T18:39:13.165294Z",
          "iopub.status.idle": "2024-07-27T18:39:13.982005Z",
          "shell.execute_reply.started": "2024-07-27T18:39:13.165261Z",
          "shell.execute_reply": "2024-07-27T18:39:13.981037Z"
        },
        "trusted": true,
        "id": "HkZbKUD8ECEd"
      },
      "execution_count": null,
      "outputs": []
    },
    {
      "cell_type": "code",
      "source": [
        "accuracy_score(Y_test,Y_test_pred7)"
      ],
      "metadata": {
        "execution": {
          "iopub.status.busy": "2024-07-27T18:39:13.983572Z",
          "iopub.execute_input": "2024-07-27T18:39:13.983923Z",
          "iopub.status.idle": "2024-07-27T18:39:14.36275Z",
          "shell.execute_reply.started": "2024-07-27T18:39:13.983889Z",
          "shell.execute_reply": "2024-07-27T18:39:14.361851Z"
        },
        "trusted": true,
        "id": "0QzosaiEECEd"
      },
      "execution_count": null,
      "outputs": []
    },
    {
      "cell_type": "markdown",
      "source": [
        "TRAINING ACCURACY"
      ],
      "metadata": {
        "id": "UZqfLOvaECEd"
      }
    },
    {
      "cell_type": "code",
      "source": [
        "names = ['NB','DT','RF','SVM','LR','GB','ANN']\n",
        "values = [87.951,99.058,99.997,99.875,99.352,99.793,99.914]\n",
        "f = plt.figure(figsize=(15,3),num=10)\n",
        "plt.subplot(131)\n",
        "plt.ylim(80,102)\n",
        "plt.bar(names,values)"
      ],
      "metadata": {
        "execution": {
          "iopub.status.busy": "2024-07-27T18:39:14.36411Z",
          "iopub.execute_input": "2024-07-27T18:39:14.364392Z",
          "iopub.status.idle": "2024-07-27T18:39:14.517109Z",
          "shell.execute_reply.started": "2024-07-27T18:39:14.364365Z",
          "shell.execute_reply": "2024-07-27T18:39:14.516084Z"
        },
        "trusted": true,
        "id": "Ti298QrLECEd"
      },
      "execution_count": null,
      "outputs": []
    },
    {
      "cell_type": "code",
      "source": [
        "f.savefig('training_accuracy_figure.png',bbox_inches='tight')"
      ],
      "metadata": {
        "execution": {
          "iopub.status.busy": "2024-07-27T18:39:14.518581Z",
          "iopub.execute_input": "2024-07-27T18:39:14.518955Z",
          "iopub.status.idle": "2024-07-27T18:39:14.627778Z",
          "shell.execute_reply.started": "2024-07-27T18:39:14.518922Z",
          "shell.execute_reply": "2024-07-27T18:39:14.626777Z"
        },
        "trusted": true,
        "id": "-AppnJJzECEd"
      },
      "execution_count": null,
      "outputs": []
    },
    {
      "cell_type": "markdown",
      "source": [
        "TESTING ACCURACY"
      ],
      "metadata": {
        "id": "QUcABpYsECEd"
      }
    },
    {
      "cell_type": "code",
      "source": [
        "names = ['NB','DT','RF','SVM','LR','GB','ANN']\n",
        "values = [87.903,99.052,99.969,99.879,99.352,99.771,99.886]\n",
        "f = plt.figure(figsize=(15,3),num=10)\n",
        "plt.subplot(131)\n",
        "plt.ylim(80,102)\n",
        "plt.bar(names,values)"
      ],
      "metadata": {
        "execution": {
          "iopub.status.busy": "2024-07-27T18:39:14.629347Z",
          "iopub.execute_input": "2024-07-27T18:39:14.62976Z",
          "iopub.status.idle": "2024-07-27T18:39:14.788028Z",
          "shell.execute_reply.started": "2024-07-27T18:39:14.629701Z",
          "shell.execute_reply": "2024-07-27T18:39:14.787142Z"
        },
        "trusted": true,
        "id": "QVCbeAeYECEd"
      },
      "execution_count": null,
      "outputs": []
    },
    {
      "cell_type": "code",
      "source": [
        "f.savefig('test_accuracy_figure.png',bbox_inches='tight')"
      ],
      "metadata": {
        "execution": {
          "iopub.status.busy": "2024-07-27T18:39:14.789423Z",
          "iopub.execute_input": "2024-07-27T18:39:14.789768Z",
          "iopub.status.idle": "2024-07-27T18:39:14.9023Z",
          "shell.execute_reply.started": "2024-07-27T18:39:14.789735Z",
          "shell.execute_reply": "2024-07-27T18:39:14.901307Z"
        },
        "trusted": true,
        "id": "CUp89milECEd"
      },
      "execution_count": null,
      "outputs": []
    },
    {
      "cell_type": "markdown",
      "source": [
        "TRAINING TIME"
      ],
      "metadata": {
        "id": "7z11Y8yBECEd"
      }
    },
    {
      "cell_type": "code",
      "source": [
        "names = ['NB','DT','RF','SVM','LR','GB','ANN']\n",
        "values = [1.04721,1.50483,11.45332,126.96016,56.67286,446.69099,1211.54094]\n",
        "f = plt.figure(figsize=(15,3),num=10)\n",
        "plt.subplot(131)\n",
        "plt.bar(names,values)"
      ],
      "metadata": {
        "execution": {
          "iopub.status.busy": "2024-07-27T18:39:14.904047Z",
          "iopub.execute_input": "2024-07-27T18:39:14.904539Z",
          "iopub.status.idle": "2024-07-27T18:39:15.069886Z",
          "shell.execute_reply.started": "2024-07-27T18:39:14.904483Z",
          "shell.execute_reply": "2024-07-27T18:39:15.0686Z"
        },
        "trusted": true,
        "id": "Fo-lteccECEd"
      },
      "execution_count": null,
      "outputs": []
    },
    {
      "cell_type": "code",
      "source": [
        "f.savefig('train_time_figure.png',bbox_inches='tight')"
      ],
      "metadata": {
        "execution": {
          "iopub.status.busy": "2024-07-27T18:39:15.071396Z",
          "iopub.execute_input": "2024-07-27T18:39:15.071767Z",
          "iopub.status.idle": "2024-07-27T18:39:15.187813Z",
          "shell.execute_reply.started": "2024-07-27T18:39:15.071727Z",
          "shell.execute_reply": "2024-07-27T18:39:15.186978Z"
        },
        "trusted": true,
        "id": "tlRbqGNOECEd"
      },
      "execution_count": null,
      "outputs": []
    },
    {
      "cell_type": "markdown",
      "source": [
        "TESTING TIME"
      ],
      "metadata": {
        "id": "67cx1GbNECEd"
      }
    },
    {
      "cell_type": "code",
      "source": [
        "names = ['NB','DT','RF','SVM','LR','GB','ANN']\n",
        "values = [0.79089,0.10471,0.60961,32.72654,0.02198,1.41416,1.72521]\n",
        "f = plt.figure(figsize=(15,3),num=10)\n",
        "plt.subplot(131)\n",
        "plt.bar(names,values)"
      ],
      "metadata": {
        "execution": {
          "iopub.status.busy": "2024-07-27T18:39:15.18939Z",
          "iopub.execute_input": "2024-07-27T18:39:15.189927Z",
          "iopub.status.idle": "2024-07-27T18:39:15.356413Z",
          "shell.execute_reply.started": "2024-07-27T18:39:15.189876Z",
          "shell.execute_reply": "2024-07-27T18:39:15.355247Z"
        },
        "trusted": true,
        "id": "ucRS5UEZECEe"
      },
      "execution_count": null,
      "outputs": []
    },
    {
      "cell_type": "code",
      "source": [
        "f.savefig('test_time_figure.png',bbox_inches='tight')"
      ],
      "metadata": {
        "execution": {
          "iopub.status.busy": "2024-07-27T18:39:15.358375Z",
          "iopub.execute_input": "2024-07-27T18:39:15.358862Z",
          "iopub.status.idle": "2024-07-27T18:39:15.473526Z",
          "shell.execute_reply.started": "2024-07-27T18:39:15.358812Z",
          "shell.execute_reply": "2024-07-27T18:39:15.472625Z"
        },
        "trusted": true,
        "id": "RBaBCc_eECEe"
      },
      "execution_count": null,
      "outputs": []
    },
    {
      "cell_type": "markdown",
      "source": [
        "DBSCAN"
      ],
      "metadata": {
        "id": "NkNDfrxxECEe"
      }
    },
    {
      "cell_type": "code",
      "source": [
        "from sklearn.cluster import DBSCAN\n",
        "from sklearn.preprocessing import StandardScaler\n",
        "\n",
        "# Assuming X_train and X_test are your datasets\n",
        "# Example dummy data (replace with your actual data)\n",
        "# X_train = ...\n",
        "# X_test = ...\n",
        "\n",
        "# Standardize the data\n",
        "scaler = StandardScaler()\n",
        "X_train_scaled = scaler.fit_transform(X_train)\n",
        "X_test_scaled = scaler.transform(X_test)\n",
        "\n",
        "# Apply DBSCAN for outlier detection\n",
        "dbscan = DBSCAN(eps=0.5, min_samples=5)\n",
        "dbscan.fit(X_train_scaled)\n",
        "\n",
        "# Get the labels (-1 indicates outliers)\n",
        "train_labels = dbscan.labels_\n",
        "\n",
        "# Predict outliers in the test set\n",
        "test_labels = dbscan.fit_predict(X_test_scaled)\n",
        "\n",
        "# Identify outliers\n",
        "train_outliers = np.where(train_labels == -1)[0]\n",
        "test_outliers = np.where(test_labels == -1)[0]\n",
        "\n",
        "train_accuracy = accuracy_score(y_train, train_outliers)\n",
        "test_accuracy = accuracy_score(y_test, test_outliers)\n",
        "\n",
        "print(\"Outliers in training data:\", np.where(train_outliers == 1)[0])\n",
        "print(\"Outliers in test data:\", np.where(test_outliers == 1)[0])\n",
        "print(\"Training Accuracy:\", train_accuracy)\n",
        "print(\"Test Accuracy:\", test_accuracy)"
      ],
      "metadata": {
        "execution": {
          "iopub.status.busy": "2024-07-27T18:39:15.475282Z",
          "iopub.execute_input": "2024-07-27T18:39:15.475776Z"
        },
        "trusted": true,
        "id": "hPuD0x4iECEe"
      },
      "execution_count": null,
      "outputs": []
    },
    {
      "cell_type": "code",
      "source": [
        "import matplotlib.pyplot as plt\n",
        "names = ['DT','RF','SVM','KNN']\n",
        "values = [99.058,99.997,99.875,99.89]\n",
        "f = plt.figure(figsize=(15,3),num=10)\n",
        "plt.subplot(131)\n",
        "plt.ylim(90,102)\n",
        "plt.bar(names,values)"
      ],
      "metadata": {
        "execution": {
          "iopub.status.busy": "2024-07-28T14:37:51.571712Z",
          "iopub.execute_input": "2024-07-28T14:37:51.572092Z",
          "iopub.status.idle": "2024-07-28T14:37:51.680731Z",
          "shell.execute_reply.started": "2024-07-28T14:37:51.572055Z",
          "shell.execute_reply": "2024-07-28T14:37:51.679925Z"
        },
        "trusted": true,
        "id": "sOCHP0RNECEe"
      },
      "execution_count": null,
      "outputs": []
    }
  ]
}